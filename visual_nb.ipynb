{
 "cells": [
  {
   "cell_type": "code",
   "execution_count": 1,
   "metadata": {},
   "outputs": [],
   "source": [
    "import numpy as np\n",
    "import os\n",
    "import matplotlib.pyplot as plt\n",
    "import networkx as nx\n",
    "import scipy\n",
    "import helpers\n",
    "import importlib"
   ]
  },
  {
   "cell_type": "code",
   "execution_count": 8,
   "metadata": {},
   "outputs": [
    {
     "name": "stdout",
     "output_type": "stream",
     "text": [
      "['web-NotreDame.txt', 'soc-Epinions1.txt', 'Oregon-1.txt', 'ca-HepTh.txt', 'ca-GrQc.txt', 'roadNet-CA.txt', 'ca-AstroPh.txt', 'ca-HepPh.txt', 'ca-CondMat.txt']\n"
     ]
    }
   ],
   "source": [
    "importlib.reload(helpers)\n",
    "# Load graph and adjacency matrix\n",
    "graph_files = os.listdir('graphs_processed')\n",
    "graph_files.remove('zachary.txt')\n",
    "\n",
    "\n",
    "print(graph_files)"
   ]
  },
  {
   "cell_type": "code",
   "execution_count": 3,
   "metadata": {},
   "outputs": [],
   "source": []
  },
  {
   "cell_type": "code",
   "execution_count": 4,
   "metadata": {},
   "outputs": [],
   "source": [
    "def degree_distribution(graph):\n",
    "    \n",
    "    degree_sequence = sorted([d for n, d in graph.degree()], reverse=True)  # degree sequence\n",
    "    # print \"Degree sequence\", degree_sequence\n",
    "    degreeCount = collections.Counter(degree_sequence)\n",
    "    deg, cnt = zip(*degreeCount.items())\n",
    "    \n",
    "    return deg, cnt"
   ]
  },
  {
   "cell_type": "code",
   "execution_count": null,
   "metadata": {},
   "outputs": [],
   "source": []
  },
  {
   "cell_type": "code",
   "execution_count": null,
   "metadata": {},
   "outputs": [],
   "source": [
    "importlib.reload(helpers)\n",
    "\n",
    "fig, ax = plt.subplots(figsize=(15,7))\n",
    "graphs = []\n",
    "\n",
    "#for idx in range(2):\n",
    "graph_file = zachary.txt # graph_files[idx] \n",
    "graph, adjecency_matrix = helpers.load_nx_graph(graph_file)\n",
    "graphs.append(graph)\n",
    "\n",
    "deg, cnt = degree_distribution(graph)\n",
    "plt.plot(deg, cnt / np.sum(cnt), width=0.80)\n",
    "plt.legend(graph_file[:-4])\n",
    "\n",
    "plt.title(\"Degree Histogram\")\n",
    "plt.ylabel(\"Count\")\n",
    "plt.xlabel(\"Degree\")\n"
   ]
  }
 ],
 "metadata": {
  "kernelspec": {
   "display_name": "Python 3",
   "language": "python",
   "name": "python3"
  },
  "language_info": {
   "codemirror_mode": {
    "name": "ipython",
    "version": 3
   },
   "file_extension": ".py",
   "mimetype": "text/x-python",
   "name": "python",
   "nbconvert_exporter": "python",
   "pygments_lexer": "ipython3",
   "version": "3.7.1"
  }
 },
 "nbformat": 4,
 "nbformat_minor": 2
}
